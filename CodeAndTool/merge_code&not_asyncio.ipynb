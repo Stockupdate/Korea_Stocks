{
 "cells": [
  {
   "cell_type": "code",
   "execution_count": 2,
   "metadata": {},
   "outputs": [],
   "source": [
    "#필요한 패키지 임포트\n",
    "import pandas as pd\n",
    "import datetime as datetime\n",
    "import os\n",
    "import glob \n",
    "from bs4 import BeautifulSoup\n",
    "import json\n",
    "from urllib.request import urlopen"
   ]
  },
  {
   "cell_type": "code",
   "execution_count": 56,
   "metadata": {},
   "outputs": [],
   "source": [
    "def mergeStock(stockNumber):\n",
    "    \"\"\"\n",
    "    기존에 파일이 없는 신규 상장의 경우를 고려해서 try와 except를 사용 \n",
    "    \"\"\"\n",
    "    try:\n",
    "        tempPath =\"/Users/choosunsick/Desktop/Korea_Stocks/Korea_Stocks_since_2018/\"  + stockNumber\n",
    "        stockData = pd.read_csv(tempPath, index_col=0, parse_dates=True, dayfirst=True)\n",
    "        tempPath = \"/Users/choosunsick/Desktop/Korea_Stocks/temp/\" + stockNumber \n",
    "        stockData_new = pd.read_csv(tempPath, index_col=0, parse_dates=True, dayfirst=True)\n",
    "        stockData_new = stockData_new.sort_index()\n",
    "        stockData_new.columns = ['Open','High','Low','Close','Volume','Adj Close']\n",
    "        stockData_new = stockData_new[['Open','High','Low','Close','Volume','Adj Close']]\n",
    "        stockData = stockData.append(stockData_new,sort=True)\n",
    "        stockData = stockData[~stockData.index.duplicated(keep='last')]\n",
    "        stockData = stockData.sort_index()\n",
    "        stockData = stockData.fillna(0.0).astype(int)\n",
    "        stockData = stockData[['Open','High','Low','Close','Volume','Adj Close']]\n",
    "        savename = \"/Users/choosunsick/Desktop/Korea_Stocks/Korea_Stocks_since_2018/\"+stockNumber\n",
    "        stockData.to_csv(savename,index=True)\n",
    "    except:\n",
    "        tempPath = \"/Users/choosunsick/Desktop/Korea_Stocks/temp/\" + stockNumber \n",
    "        stockData_new = pd.read_csv(tempPath, index_col=0, parse_dates=True, dayfirst=True)\n",
    "        stockData_new = stockData_new.sort_index()\n",
    "        stockData = stockData.fillna(0.0).astype(int)\n",
    "        stockData_new.columns = ['Open','High','Low','Close','Volume','Adj Close']\n",
    "        stockData_new = stockData_new[['Open','High','Low','Close','Volume','Adj Close']]\n",
    "        savename = \"/Users/choosunsick/Desktop/Korea_Stocks/Korea_Stocks_since_2018/\"+stockNumber\n",
    "        stockData_new.to_csv(savename,index=True)\n"
   ]
  },
  {
   "cell_type": "code",
   "execution_count": 50,
   "metadata": {},
   "outputs": [],
   "source": [
    "def merge_about_2000(stockNumber):\n",
    "    try:\n",
    "        tempPath =\"/Users/choosunsick/Desktop/Korea_Stocks/Korea_Stocks_Full/\" + stockNumber\n",
    "        stockData = pd.read_csv(tempPath, index_col=0, parse_dates=True, dayfirst=True)\n",
    "        stockData = stockData[['Open','High','Low','Close','Volume','Adj Close']]\n",
    "        stockData = stockData.sort_index()\n",
    "        tempPath = \"/Users/choosunsick/Desktop/Korea_Stocks/temp/\" + stockNumber \n",
    "        stockData_new = pd.read_csv(tempPath, index_col=0, parse_dates=True, dayfirst=True)\n",
    "        stockData_new = stockData_new.sort_index()\n",
    "        stockData_new.columns = ['Open','High','Low','Close','Volume','Adj Close']\n",
    "        stockData_new = stockData_new[['Open','High','Low','Close','Volume','Adj Close']]\n",
    "        stockData = stockData.append(stockData_new,sort=True)\n",
    "        stockData = stockData[~stockData.index.duplicated(keep='last')]\n",
    "        stockData = stockData.fillna(0.0).astype(int)\n",
    "        stockData = stockData.sort_index()\n",
    "        stockData = stockData[['Open','High','Low','Close','Volume','Adj Close']]\n",
    "        savename = \"/Users/choosunsick/Desktop/Korea_Stocks/Korea_Stocks_Full/\"+stockNumber\n",
    "        stockData.to_csv(savename,index=True)\n",
    "    except:\n",
    "        tempPath =\"/Users/choosunsick/Desktop/Korea_Stocks/temp/\"  + stockNumber\n",
    "        stockData = pd.read_csv(tempPath, index_col=0, parse_dates=True, dayfirst=True)\n",
    "        stockData = stockData.sort_index()\n",
    "        stockData = stockData.fillna(0.0).astype(int)\n",
    "        stockData = stockData[['Open','High','Low','Close','Volume','Adj Close']]\n",
    "        savename=\"/Users/choosunsick/Desktop/Korea_Stocks/Korea_Stocks_Full/\"+stockNumber\n",
    "        stockData.to_csv(savename,index=True)"
   ]
  },
  {
   "cell_type": "code",
   "execution_count": 61,
   "metadata": {},
   "outputs": [],
   "source": [
    "#함수의 개별주식별 사용법 \n",
    "#mergeStock(\"054340.csv\")\n",
    "merge_about_2000(\".csv\")"
   ]
  },
  {
   "cell_type": "code",
   "execution_count": 40,
   "metadata": {},
   "outputs": [
    {
     "ename": "FileNotFoundError",
     "evalue": "File b'/Users/choosunsick/Desktop/Korea_Stocks/temp/005980.csv' does not exist",
     "output_type": "error",
     "traceback": [
      "\u001b[0;31m---------------------------------------------------------------------------\u001b[0m",
      "\u001b[0;31mKeyError\u001b[0m                                  Traceback (most recent call last)",
      "\u001b[0;32m<ipython-input-39-7dcd348a82af>\u001b[0m in \u001b[0;36mmerge_about_2000\u001b[0;34m(stockNumber)\u001b[0m\n\u001b[1;32m      9\u001b[0m         \u001b[0mstockData_new\u001b[0m \u001b[0;34m=\u001b[0m \u001b[0mstockData_new\u001b[0m\u001b[0;34m.\u001b[0m\u001b[0msort_index\u001b[0m\u001b[0;34m(\u001b[0m\u001b[0;34m)\u001b[0m\u001b[0;34m\u001b[0m\u001b[0m\n\u001b[0;32m---> 10\u001b[0;31m         \u001b[0mstockData_new\u001b[0m \u001b[0;34m=\u001b[0m \u001b[0mstockData_new\u001b[0m\u001b[0;34m[\u001b[0m\u001b[0;34m[\u001b[0m\u001b[0;34m[\u001b[0m\u001b[0;34m'Open'\u001b[0m\u001b[0;34m,\u001b[0m\u001b[0;34m'High'\u001b[0m\u001b[0;34m,\u001b[0m\u001b[0;34m'Low'\u001b[0m\u001b[0;34m,\u001b[0m\u001b[0;34m'Close'\u001b[0m\u001b[0;34m,\u001b[0m\u001b[0;34m'Volume'\u001b[0m\u001b[0;34m,\u001b[0m\u001b[0;34m'Adj Close'\u001b[0m\u001b[0;34m]\u001b[0m\u001b[0;34m]\u001b[0m\u001b[0;34m]\u001b[0m\u001b[0;34m\u001b[0m\u001b[0m\n\u001b[0m\u001b[1;32m     11\u001b[0m         \u001b[0mstockData\u001b[0m \u001b[0;34m=\u001b[0m \u001b[0mstockData\u001b[0m\u001b[0;34m.\u001b[0m\u001b[0mappend\u001b[0m\u001b[0;34m(\u001b[0m\u001b[0mstockData_new\u001b[0m\u001b[0;34m,\u001b[0m\u001b[0msort\u001b[0m\u001b[0;34m=\u001b[0m\u001b[0;32mTrue\u001b[0m\u001b[0;34m)\u001b[0m\u001b[0;34m\u001b[0m\u001b[0m\n",
      "\u001b[0;32m/usr/local/lib/python3.7/site-packages/pandas/core/frame.py\u001b[0m in \u001b[0;36m__getitem__\u001b[0;34m(self, key)\u001b[0m\n\u001b[1;32m   2681\u001b[0m             \u001b[0;31m# either boolean or fancy integer index\u001b[0m\u001b[0;34m\u001b[0m\u001b[0;34m\u001b[0m\u001b[0m\n\u001b[0;32m-> 2682\u001b[0;31m             \u001b[0;32mreturn\u001b[0m \u001b[0mself\u001b[0m\u001b[0;34m.\u001b[0m\u001b[0m_getitem_array\u001b[0m\u001b[0;34m(\u001b[0m\u001b[0mkey\u001b[0m\u001b[0;34m)\u001b[0m\u001b[0;34m\u001b[0m\u001b[0m\n\u001b[0m\u001b[1;32m   2683\u001b[0m         \u001b[0;32melif\u001b[0m \u001b[0misinstance\u001b[0m\u001b[0;34m(\u001b[0m\u001b[0mkey\u001b[0m\u001b[0;34m,\u001b[0m \u001b[0mDataFrame\u001b[0m\u001b[0;34m)\u001b[0m\u001b[0;34m:\u001b[0m\u001b[0;34m\u001b[0m\u001b[0m\n",
      "\u001b[0;32m/usr/local/lib/python3.7/site-packages/pandas/core/frame.py\u001b[0m in \u001b[0;36m_getitem_array\u001b[0;34m(self, key)\u001b[0m\n\u001b[1;32m   2725\u001b[0m         \u001b[0;32melse\u001b[0m\u001b[0;34m:\u001b[0m\u001b[0;34m\u001b[0m\u001b[0m\n\u001b[0;32m-> 2726\u001b[0;31m             \u001b[0mindexer\u001b[0m \u001b[0;34m=\u001b[0m \u001b[0mself\u001b[0m\u001b[0;34m.\u001b[0m\u001b[0mloc\u001b[0m\u001b[0;34m.\u001b[0m\u001b[0m_convert_to_indexer\u001b[0m\u001b[0;34m(\u001b[0m\u001b[0mkey\u001b[0m\u001b[0;34m,\u001b[0m \u001b[0maxis\u001b[0m\u001b[0;34m=\u001b[0m\u001b[0;36m1\u001b[0m\u001b[0;34m)\u001b[0m\u001b[0;34m\u001b[0m\u001b[0m\n\u001b[0m\u001b[1;32m   2727\u001b[0m             \u001b[0;32mreturn\u001b[0m \u001b[0mself\u001b[0m\u001b[0;34m.\u001b[0m\u001b[0m_take\u001b[0m\u001b[0;34m(\u001b[0m\u001b[0mindexer\u001b[0m\u001b[0;34m,\u001b[0m \u001b[0maxis\u001b[0m\u001b[0;34m=\u001b[0m\u001b[0;36m1\u001b[0m\u001b[0;34m)\u001b[0m\u001b[0;34m\u001b[0m\u001b[0m\n",
      "\u001b[0;32m/usr/local/lib/python3.7/site-packages/pandas/core/indexing.py\u001b[0m in \u001b[0;36m_convert_to_indexer\u001b[0;34m(self, obj, axis, is_setter)\u001b[0m\n\u001b[1;32m   1326\u001b[0m                     raise KeyError('{mask} not in index'\n\u001b[0;32m-> 1327\u001b[0;31m                                    .format(mask=objarr[mask]))\n\u001b[0m\u001b[1;32m   1328\u001b[0m \u001b[0;34m\u001b[0m\u001b[0m\n",
      "\u001b[0;31mKeyError\u001b[0m: \"[('Open', 'High', 'Low', 'Close', 'Volume', 'Adj Close')] not in index\"",
      "\nDuring handling of the above exception, another exception occurred:\n",
      "\u001b[0;31mFileNotFoundError\u001b[0m                         Traceback (most recent call last)",
      "\u001b[0;32m<ipython-input-40-26b4bef217ee>\u001b[0m in \u001b[0;36m<module>\u001b[0;34m()\u001b[0m\n\u001b[1;32m      6\u001b[0m \u001b[0mlist1\u001b[0m\u001b[0;34m=\u001b[0m\u001b[0;34m[\u001b[0m\u001b[0ms\u001b[0m \u001b[0;32mfor\u001b[0m \u001b[0ms\u001b[0m \u001b[0;32min\u001b[0m \u001b[0mlist1\u001b[0m \u001b[0;32mif\u001b[0m \u001b[0;34m\"csv\"\u001b[0m \u001b[0;32min\u001b[0m \u001b[0ms\u001b[0m\u001b[0;34m]\u001b[0m\u001b[0;34m\u001b[0m\u001b[0m\n\u001b[1;32m      7\u001b[0m \u001b[0;32mfor\u001b[0m \u001b[0mi\u001b[0m \u001b[0;32min\u001b[0m \u001b[0mlist1\u001b[0m\u001b[0;34m:\u001b[0m\u001b[0;34m\u001b[0m\u001b[0m\n\u001b[0;32m----> 8\u001b[0;31m     \u001b[0mmerge_about_2000\u001b[0m\u001b[0;34m(\u001b[0m\u001b[0mi\u001b[0m\u001b[0;34m)\u001b[0m\u001b[0;34m\u001b[0m\u001b[0m\n\u001b[0m",
      "\u001b[0;32m<ipython-input-39-7dcd348a82af>\u001b[0m in \u001b[0;36mmerge_about_2000\u001b[0;34m(stockNumber)\u001b[0m\n\u001b[1;32m     18\u001b[0m     \u001b[0;32mexcept\u001b[0m\u001b[0;34m:\u001b[0m\u001b[0;34m\u001b[0m\u001b[0m\n\u001b[1;32m     19\u001b[0m         \u001b[0mtempPath\u001b[0m \u001b[0;34m=\u001b[0m\u001b[0;34m\"/Users/choosunsick/Desktop/Korea_Stocks/temp/\"\u001b[0m  \u001b[0;34m+\u001b[0m \u001b[0mstockNumber\u001b[0m\u001b[0;34m\u001b[0m\u001b[0m\n\u001b[0;32m---> 20\u001b[0;31m         \u001b[0mstockData\u001b[0m \u001b[0;34m=\u001b[0m \u001b[0mpd\u001b[0m\u001b[0;34m.\u001b[0m\u001b[0mread_csv\u001b[0m\u001b[0;34m(\u001b[0m\u001b[0mtempPath\u001b[0m\u001b[0;34m,\u001b[0m \u001b[0mindex_col\u001b[0m\u001b[0;34m=\u001b[0m\u001b[0;36m0\u001b[0m\u001b[0;34m,\u001b[0m \u001b[0mparse_dates\u001b[0m\u001b[0;34m=\u001b[0m\u001b[0;32mTrue\u001b[0m\u001b[0;34m,\u001b[0m \u001b[0mdayfirst\u001b[0m\u001b[0;34m=\u001b[0m\u001b[0;32mTrue\u001b[0m\u001b[0;34m)\u001b[0m\u001b[0;34m\u001b[0m\u001b[0m\n\u001b[0m\u001b[1;32m     21\u001b[0m         \u001b[0mstockData\u001b[0m \u001b[0;34m=\u001b[0m \u001b[0mstockData\u001b[0m\u001b[0;34m.\u001b[0m\u001b[0msort_index\u001b[0m\u001b[0;34m(\u001b[0m\u001b[0;34m)\u001b[0m\u001b[0;34m\u001b[0m\u001b[0m\n\u001b[1;32m     22\u001b[0m         \u001b[0mstockData\u001b[0m\u001b[0;34m.\u001b[0m\u001b[0mcolumns\u001b[0m \u001b[0;34m=\u001b[0m \u001b[0;34m[\u001b[0m\u001b[0;34m'Adj Close'\u001b[0m\u001b[0;34m,\u001b[0m \u001b[0;34m'Close'\u001b[0m\u001b[0;34m,\u001b[0m \u001b[0;34m'High'\u001b[0m\u001b[0;34m,\u001b[0m \u001b[0;34m'Low'\u001b[0m\u001b[0;34m,\u001b[0m \u001b[0;34m'Open'\u001b[0m\u001b[0;34m,\u001b[0m \u001b[0;34m'Volume'\u001b[0m\u001b[0;34m]\u001b[0m\u001b[0;34m\u001b[0m\u001b[0m\n",
      "\u001b[0;32m/usr/local/lib/python3.7/site-packages/pandas/io/parsers.py\u001b[0m in \u001b[0;36mparser_f\u001b[0;34m(filepath_or_buffer, sep, delimiter, header, names, index_col, usecols, squeeze, prefix, mangle_dupe_cols, dtype, engine, converters, true_values, false_values, skipinitialspace, skiprows, nrows, na_values, keep_default_na, na_filter, verbose, skip_blank_lines, parse_dates, infer_datetime_format, keep_date_col, date_parser, dayfirst, iterator, chunksize, compression, thousands, decimal, lineterminator, quotechar, quoting, escapechar, comment, encoding, dialect, tupleize_cols, error_bad_lines, warn_bad_lines, skipfooter, doublequote, delim_whitespace, low_memory, memory_map, float_precision)\u001b[0m\n\u001b[1;32m    676\u001b[0m                     skip_blank_lines=skip_blank_lines)\n\u001b[1;32m    677\u001b[0m \u001b[0;34m\u001b[0m\u001b[0m\n\u001b[0;32m--> 678\u001b[0;31m         \u001b[0;32mreturn\u001b[0m \u001b[0m_read\u001b[0m\u001b[0;34m(\u001b[0m\u001b[0mfilepath_or_buffer\u001b[0m\u001b[0;34m,\u001b[0m \u001b[0mkwds\u001b[0m\u001b[0;34m)\u001b[0m\u001b[0;34m\u001b[0m\u001b[0m\n\u001b[0m\u001b[1;32m    679\u001b[0m \u001b[0;34m\u001b[0m\u001b[0m\n\u001b[1;32m    680\u001b[0m     \u001b[0mparser_f\u001b[0m\u001b[0;34m.\u001b[0m\u001b[0m__name__\u001b[0m \u001b[0;34m=\u001b[0m \u001b[0mname\u001b[0m\u001b[0;34m\u001b[0m\u001b[0m\n",
      "\u001b[0;32m/usr/local/lib/python3.7/site-packages/pandas/io/parsers.py\u001b[0m in \u001b[0;36m_read\u001b[0;34m(filepath_or_buffer, kwds)\u001b[0m\n\u001b[1;32m    438\u001b[0m \u001b[0;34m\u001b[0m\u001b[0m\n\u001b[1;32m    439\u001b[0m     \u001b[0;31m# Create the parser.\u001b[0m\u001b[0;34m\u001b[0m\u001b[0;34m\u001b[0m\u001b[0m\n\u001b[0;32m--> 440\u001b[0;31m     \u001b[0mparser\u001b[0m \u001b[0;34m=\u001b[0m \u001b[0mTextFileReader\u001b[0m\u001b[0;34m(\u001b[0m\u001b[0mfilepath_or_buffer\u001b[0m\u001b[0;34m,\u001b[0m \u001b[0;34m**\u001b[0m\u001b[0mkwds\u001b[0m\u001b[0;34m)\u001b[0m\u001b[0;34m\u001b[0m\u001b[0m\n\u001b[0m\u001b[1;32m    441\u001b[0m \u001b[0;34m\u001b[0m\u001b[0m\n\u001b[1;32m    442\u001b[0m     \u001b[0;32mif\u001b[0m \u001b[0mchunksize\u001b[0m \u001b[0;32mor\u001b[0m \u001b[0miterator\u001b[0m\u001b[0;34m:\u001b[0m\u001b[0;34m\u001b[0m\u001b[0m\n",
      "\u001b[0;32m/usr/local/lib/python3.7/site-packages/pandas/io/parsers.py\u001b[0m in \u001b[0;36m__init__\u001b[0;34m(self, f, engine, **kwds)\u001b[0m\n\u001b[1;32m    785\u001b[0m             \u001b[0mself\u001b[0m\u001b[0;34m.\u001b[0m\u001b[0moptions\u001b[0m\u001b[0;34m[\u001b[0m\u001b[0;34m'has_index_names'\u001b[0m\u001b[0;34m]\u001b[0m \u001b[0;34m=\u001b[0m \u001b[0mkwds\u001b[0m\u001b[0;34m[\u001b[0m\u001b[0;34m'has_index_names'\u001b[0m\u001b[0;34m]\u001b[0m\u001b[0;34m\u001b[0m\u001b[0m\n\u001b[1;32m    786\u001b[0m \u001b[0;34m\u001b[0m\u001b[0m\n\u001b[0;32m--> 787\u001b[0;31m         \u001b[0mself\u001b[0m\u001b[0;34m.\u001b[0m\u001b[0m_make_engine\u001b[0m\u001b[0;34m(\u001b[0m\u001b[0mself\u001b[0m\u001b[0;34m.\u001b[0m\u001b[0mengine\u001b[0m\u001b[0;34m)\u001b[0m\u001b[0;34m\u001b[0m\u001b[0m\n\u001b[0m\u001b[1;32m    788\u001b[0m \u001b[0;34m\u001b[0m\u001b[0m\n\u001b[1;32m    789\u001b[0m     \u001b[0;32mdef\u001b[0m \u001b[0mclose\u001b[0m\u001b[0;34m(\u001b[0m\u001b[0mself\u001b[0m\u001b[0;34m)\u001b[0m\u001b[0;34m:\u001b[0m\u001b[0;34m\u001b[0m\u001b[0m\n",
      "\u001b[0;32m/usr/local/lib/python3.7/site-packages/pandas/io/parsers.py\u001b[0m in \u001b[0;36m_make_engine\u001b[0;34m(self, engine)\u001b[0m\n\u001b[1;32m   1012\u001b[0m     \u001b[0;32mdef\u001b[0m \u001b[0m_make_engine\u001b[0m\u001b[0;34m(\u001b[0m\u001b[0mself\u001b[0m\u001b[0;34m,\u001b[0m \u001b[0mengine\u001b[0m\u001b[0;34m=\u001b[0m\u001b[0;34m'c'\u001b[0m\u001b[0;34m)\u001b[0m\u001b[0;34m:\u001b[0m\u001b[0;34m\u001b[0m\u001b[0m\n\u001b[1;32m   1013\u001b[0m         \u001b[0;32mif\u001b[0m \u001b[0mengine\u001b[0m \u001b[0;34m==\u001b[0m \u001b[0;34m'c'\u001b[0m\u001b[0;34m:\u001b[0m\u001b[0;34m\u001b[0m\u001b[0m\n\u001b[0;32m-> 1014\u001b[0;31m             \u001b[0mself\u001b[0m\u001b[0;34m.\u001b[0m\u001b[0m_engine\u001b[0m \u001b[0;34m=\u001b[0m \u001b[0mCParserWrapper\u001b[0m\u001b[0;34m(\u001b[0m\u001b[0mself\u001b[0m\u001b[0;34m.\u001b[0m\u001b[0mf\u001b[0m\u001b[0;34m,\u001b[0m \u001b[0;34m**\u001b[0m\u001b[0mself\u001b[0m\u001b[0;34m.\u001b[0m\u001b[0moptions\u001b[0m\u001b[0;34m)\u001b[0m\u001b[0;34m\u001b[0m\u001b[0m\n\u001b[0m\u001b[1;32m   1015\u001b[0m         \u001b[0;32melse\u001b[0m\u001b[0;34m:\u001b[0m\u001b[0;34m\u001b[0m\u001b[0m\n\u001b[1;32m   1016\u001b[0m             \u001b[0;32mif\u001b[0m \u001b[0mengine\u001b[0m \u001b[0;34m==\u001b[0m \u001b[0;34m'python'\u001b[0m\u001b[0;34m:\u001b[0m\u001b[0;34m\u001b[0m\u001b[0m\n",
      "\u001b[0;32m/usr/local/lib/python3.7/site-packages/pandas/io/parsers.py\u001b[0m in \u001b[0;36m__init__\u001b[0;34m(self, src, **kwds)\u001b[0m\n\u001b[1;32m   1706\u001b[0m         \u001b[0mkwds\u001b[0m\u001b[0;34m[\u001b[0m\u001b[0;34m'usecols'\u001b[0m\u001b[0;34m]\u001b[0m \u001b[0;34m=\u001b[0m \u001b[0mself\u001b[0m\u001b[0;34m.\u001b[0m\u001b[0musecols\u001b[0m\u001b[0;34m\u001b[0m\u001b[0m\n\u001b[1;32m   1707\u001b[0m \u001b[0;34m\u001b[0m\u001b[0m\n\u001b[0;32m-> 1708\u001b[0;31m         \u001b[0mself\u001b[0m\u001b[0;34m.\u001b[0m\u001b[0m_reader\u001b[0m \u001b[0;34m=\u001b[0m \u001b[0mparsers\u001b[0m\u001b[0;34m.\u001b[0m\u001b[0mTextReader\u001b[0m\u001b[0;34m(\u001b[0m\u001b[0msrc\u001b[0m\u001b[0;34m,\u001b[0m \u001b[0;34m**\u001b[0m\u001b[0mkwds\u001b[0m\u001b[0;34m)\u001b[0m\u001b[0;34m\u001b[0m\u001b[0m\n\u001b[0m\u001b[1;32m   1709\u001b[0m \u001b[0;34m\u001b[0m\u001b[0m\n\u001b[1;32m   1710\u001b[0m         \u001b[0mpassed_names\u001b[0m \u001b[0;34m=\u001b[0m \u001b[0mself\u001b[0m\u001b[0;34m.\u001b[0m\u001b[0mnames\u001b[0m \u001b[0;32mis\u001b[0m \u001b[0;32mNone\u001b[0m\u001b[0;34m\u001b[0m\u001b[0m\n",
      "\u001b[0;32mpandas/_libs/parsers.pyx\u001b[0m in \u001b[0;36mpandas._libs.parsers.TextReader.__cinit__\u001b[0;34m()\u001b[0m\n",
      "\u001b[0;32mpandas/_libs/parsers.pyx\u001b[0m in \u001b[0;36mpandas._libs.parsers.TextReader._setup_parser_source\u001b[0;34m()\u001b[0m\n",
      "\u001b[0;31mFileNotFoundError\u001b[0m: File b'/Users/choosunsick/Desktop/Korea_Stocks/temp/005980.csv' does not exist"
     ]
    }
   ],
   "source": [
    "\"\"\"\n",
    "함수를 사용하는 예시 코드\n",
    "다운받아진 파일들의 목록을 리스트화해서 for 문으로 함수에 인자로 전달합니다. \n",
    "\"\"\"\n",
    "list1=os.listdir(\"/Users/choosunsick/Desktop/Korea_Stocks/Korea_Stocks_since_2018/\")\n",
    "list1=[s for s in list1 if \"csv\" in s]\n",
    "for i in list1:\n",
    "    merge_about_2000(i)"
   ]
  },
  {
   "cell_type": "markdown",
   "metadata": {},
   "source": [
    "# 동기식으로 다운 받을 경우"
   ]
  },
  {
   "cell_type": "code",
   "execution_count": 43,
   "metadata": {},
   "outputs": [],
   "source": [
    "def extracting_stock_from_yahoo(stock_number_text):\n",
    "    \"\"\"\n",
    "    이 함수는 야후에서 코스피 주식자료를 추출하는 함수입니다.\n",
    "    \"\"\"\n",
    "    url = 'https://finance.yahoo.com/quote/'+str(stock_number_text)+'.KS/history?p='+ str(stock_number_text) + '.KS'\n",
    "    print(url)\n",
    "    html = urlopen(url)\n",
    "    soup4 = BeautifulSoup(html, \"html.parser\")\n",
    "    temp = soup4.text.strip()\n",
    "    temp1 = temp.split('\\\"HistoricalPriceStore\\\":')[1]\n",
    "    temp2 = temp1.split('],\"isPending\":false,\"')[0]\n",
    "    temp3 = json.dumps(temp2)\n",
    "    temp4 = temp3.replace('\\\\','')[11:]\n",
    "    yahoo_json = json.loads((temp4[:len(temp4)-1]+']'))\n",
    "    return yahoo_json\n",
    "\n",
    "def KS_extracting_stock_data(stock_number_text):\n",
    "    temp = extracting_stock_from_yahoo(stock_number_text)\n",
    "    temp = json.dumps(temp)\n",
    "    test = pd.read_json(temp, orient='records')\n",
    "    # .fillna(0.0).astype(int) 이건 정수형으로 만들기 위한 것입니다.\n",
    "    test2 = pd.concat([test['open'][:30], test['high'][:30],test['low'][:30],test['close'][:30],test['volume'][:30],test['adjclose'][:30]], axis=1).fillna(0.0).astype(int)\n",
    "    test2=test2.set_index(test['date'][:30])\n",
    "    test2.index=test2.index[:].strftime(\"%Y-%m-%d\")\n",
    "    savename=\"/Users/choosunsick/Desktop/Korea_Stocks/temp/\" +stock_number_text+\".csv\"\n",
    "    test2.to_csv(savename,index=True)"
   ]
  },
  {
   "cell_type": "code",
   "execution_count": 44,
   "metadata": {},
   "outputs": [],
   "source": [
    "def KQ_extracting_stock_from_yahoo(stock_number_text):\n",
    "    \"\"\"\n",
    "    이 함수는 야후에서 코스닥 주식자료를 추출하는 함수입니다.\n",
    "    \"\"\"\n",
    "    url = 'https://finance.yahoo.com/quote/'+str(stock_number_text)+'.KQ/history?p='+ str(stock_number_text) + '.KQ'\n",
    "    print(url)\n",
    "    html = urlopen(url)\n",
    "    soup4 = BeautifulSoup(html, \"html.parser\")\n",
    "    temp = soup4.text.strip()\n",
    "    temp1 = temp.split('\\\"HistoricalPriceStore\\\":')[1]\n",
    "    temp2 = temp1.split('],\"isPending\":false,\"')[0]\n",
    "    temp3 = json.dumps(temp2)\n",
    "    temp4 = temp3.replace('\\\\','')[11:]\n",
    "    yahoo_json = json.loads((temp4[:len(temp4)-1]+']'))\n",
    "    return yahoo_json\n",
    "\n",
    "def KQ_extracting_stock_data(stock_number_text):\n",
    "    temp = KQ_extracting_stock_from_yahoo(stock_number_text)\n",
    "    temp = json.dumps(temp)\n",
    "    temp = pd.read_json(temp, orient='records')\n",
    "    temp2 = pd.concat([temp['open'][:30], temp['high'][:30],temp['low'][:30],temp['close'][:30],temp['volume'][:30],temp['adjclose'][:30]], axis=1).fillna(0.0).astype(int)\n",
    "    temp2=temp2.set_index(temp['date'][:30])\n",
    "    temp2.index=temp2.index[:].strftime(\"%Y-%m-%d\")\n",
    "    savename=\"/Users/choosunsick/Desktop/Korea_Stocks/temp/\" +stock_number_text+\".csv\"\n",
    "    temp2.to_csv(savename,index=True)"
   ]
  },
  {
   "cell_type": "code",
   "execution_count": 53,
   "metadata": {},
   "outputs": [
    {
     "name": "stdout",
     "output_type": "stream",
     "text": [
      "https://finance.yahoo.com/quote/015230.KS/history?p=015230.KS\n"
     ]
    }
   ],
   "source": [
    "KS_extracting_stock_data(\"015230\")"
   ]
  },
  {
   "cell_type": "code",
   "execution_count": 54,
   "metadata": {},
   "outputs": [
    {
     "name": "stdout",
     "output_type": "stream",
     "text": [
      "https://finance.yahoo.com/quote/054340.KQ/history?p=054340.KQ\n"
     ]
    }
   ],
   "source": [
    "KQ_extracting_stock_data(\"054340\")"
   ]
  },
  {
   "cell_type": "code",
   "execution_count": null,
   "metadata": {},
   "outputs": [],
   "source": []
  }
 ],
 "metadata": {
  "kernelspec": {
   "display_name": "Python 3",
   "language": "python",
   "name": "python3"
  },
  "language_info": {
   "codemirror_mode": {
    "name": "ipython",
    "version": 3
   },
   "file_extension": ".py",
   "mimetype": "text/x-python",
   "name": "python",
   "nbconvert_exporter": "python",
   "pygments_lexer": "ipython3",
   "version": "3.7.0"
  }
 },
 "nbformat": 4,
 "nbformat_minor": 2
}
