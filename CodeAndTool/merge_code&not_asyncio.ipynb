{
 "cells": [
  {
   "cell_type": "code",
   "execution_count": 2,
   "metadata": {},
   "outputs": [],
   "source": [
    "#필요한 패키지 임포트\n",
    "import pandas as pd\n",
    "import datetime as datetime\n",
    "import os\n",
    "import glob \n",
    "from bs4 import BeautifulSoup\n",
    "import json\n",
    "from urllib.request import urlopen"
   ]
  },
  {
   "cell_type": "code",
   "execution_count": 7,
   "metadata": {},
   "outputs": [],
   "source": [
    "def mergeStock(stockNumber):\n",
    "    \"\"\"\n",
    "    기존에 파일이 없는 신규 상장의 경우를 고려해서 try와 except를 사용 \n",
    "    \"\"\"\n",
    "    try:\n",
    "        tempPath =\"/Users/choosunsick/Desktop/Korea_Stocks/Stocks_since_2018/\"  + stockNumber\n",
    "        stockData = pd.read_csv(tempPath, index_col=0, parse_dates=True, dayfirst=True)\n",
    "        tempPath = \"/Users/choosunsick/Desktop/Korea_Stocks/Download/\" + stockNumber \n",
    "        stockData_new = pd.read_csv(tempPath, index_col=0, parse_dates=True, dayfirst=True)\n",
    "        stockData_new=stockData_new.sort_index()\n",
    "        stockData_new.columns = ['Open','High','Low','Close','Volume','Adj Close']\n",
    "        stockData = stockData.append(stockData_new,sort=True)\n",
    "        stockData = stockData[~stockData.index.duplicated(keep='last')]\n",
    "        stockData = stockData.sort_index()\n",
    "        savename=\"/Users/choosunsick/Desktop/Korea_Stocks/Stocks_since_2018/\"+stockNumber\n",
    "        stockData.to_csv(savename,index=True)\n",
    "    except:\n",
    "        tempPath = \"/Users/choosunsick/Desktop/Korea_Stocks/Download/\" + stockNumber \n",
    "        stockData_new = pd.read_csv(tempPath, index_col=0, parse_dates=True, dayfirst=True)\n",
    "        stockData_new=stockData_new.sort_index()\n",
    "        stockData_new.columns = ['Open','High','Low','Close','Volume','Adj Close']\n",
    "        savename=\"/Users/choosunsick/Desktop/Korea_Stocks/Stocks_since_2018/\"+stockNumber\n",
    "        stockData_new.to_csv(savename,index=True)"
   ]
  },
  {
   "cell_type": "code",
   "execution_count": 1,
   "metadata": {},
   "outputs": [],
   "source": [
    "def merge_about_2000(stockNumber):\n",
    "    try:\n",
    "        tempPath =\"/Users/choosunsick/Desktop/Korea_Stocks/Download/\"  + stockNumber\n",
    "        stockData = pd.read_csv(tempPath, index_col=0, parse_dates=True, dayfirst=True)\n",
    "        tempPath = \"/Users/choosunsick/Desktop/Korea_Stocks/Stocks_about_2000/\" + stockNumber \n",
    "        stockData_new = pd.read_csv(tempPath, index_col=0, parse_dates=True, dayfirst=True)\n",
    "        stockData_new = stockData_new.sort_index()\n",
    "        stockData_new.columns = ['Open','High','Low','Close','Volume','Adj Close']\n",
    "        stockData_new=stockData_new[['Adj Close', 'Close', 'High', 'Low', 'Open', 'Volume']]\n",
    "        stockData = stockData.append(stockData_new,sort=True)\n",
    "        stockData = stockData[~stockData.index.duplicated(keep='last')]\n",
    "        stockData = stockData.fillna(0.0).astype(int)\n",
    "        stockData = stockData.sort_index()\n",
    "        savename=\"/Users/choosunsick/Desktop/Korea_Stocks/Stocks_about_2000/\"+stockNumber\n",
    "        stockData.to_csv(savename,index=True)\n",
    "    except:\n",
    "        tempPath =\"/Users/choosunsick/Desktop/Korea_Stocks/Download/\"  + stockNumber\n",
    "        stockData = pd.read_csv(tempPath, index_col=0, parse_dates=True, dayfirst=True)\n",
    "        stockData = stockData.sort_index()\n",
    "        stockData.columns = ['Open','High','Low','Close','Volume','Adj Close']\n",
    "        stockData=stockData[['Adj Close', 'Close', 'High', 'Low', 'Open', 'Volume']]\n",
    "        stockData = stockData.fillna(0.0).astype(int)\n",
    "        savename=\"/Users/choosunsick/Desktop/Korea_Stocks/Stocks_about_2000/\"+stockNumber\n",
    "        stockData.to_csv(savename,index=True)"
   ]
  },
  {
   "cell_type": "code",
   "execution_count": 9,
   "metadata": {},
   "outputs": [],
   "source": [
    "\"\"\"\n",
    "#함수를 사용하는 예시 코드\n",
    "다운받아진 파일들의 목록을 리스트화해서 for 문으로 함수에 인자로 전달합니다. \n",
    "\"\"\"\n",
    "list1=os.listdir(\"/Users/choosunsick/Desktop/Korea_Stocks/Download/\")\n",
    "list1=[s for s in list1 if \"csv\" in s]\n",
    "for i in list1:\n",
    "    mergeStock(i)"
   ]
  },
  {
   "cell_type": "markdown",
   "metadata": {},
   "source": [
    "# 동기식으로 다운 받을 경우"
   ]
  },
  {
   "cell_type": "code",
   "execution_count": 3,
   "metadata": {},
   "outputs": [],
   "source": [
    "def extracting_stock_from_yahoo(stock_number_text):\n",
    "    \"\"\"\n",
    "    이 함수는 야후에서 코스피 주식자료를 추출하는 함수입니다.\n",
    "    \"\"\"\n",
    "    url = 'https://finance.yahoo.com/quote/'+str(stock_number_text)+'.KS/history?p='+ str(stock_number_text) + '.KS'\n",
    "    print(url)\n",
    "    html = urlopen(url)\n",
    "    soup4 = BeautifulSoup(html, \"html.parser\")\n",
    "    temp = soup4.text.strip()\n",
    "    temp1 = temp.split('\\\"HistoricalPriceStore\\\":')[1]\n",
    "    temp2 = temp1.split('],\"isPending\":false,\"')[0]\n",
    "    temp3 = json.dumps(temp2)\n",
    "    temp4 = temp3.replace('\\\\','')[11:]\n",
    "    yahoo_json = json.loads((temp4[:len(temp4)-1]+']'))\n",
    "    return yahoo_json\n",
    "\n",
    "def KS_extracting_stock_data(stock_number_text):\n",
    "    temp = extracting_stock_from_yahoo(stock_number_text)\n",
    "    temp = json.dumps(temp)\n",
    "    test = pd.read_json(temp, orient='records')\n",
    "    # .fillna(0.0).astype(int) 이건 정수형으로 만들기 위한 것입니다.\n",
    "    test2 = pd.concat([test['open'][:30], test['high'][:30],test['low'][:30],test['close'][:30],test['volume'][:30],test['adjclose'][:30]], axis=1).fillna(0.0).astype(int)\n",
    "    test2=test2.set_index(test['date'][:30])\n",
    "    test2.index=test2.index[:].strftime(\"%Y-%m-%d\")\n",
    "    savename=\"/Users/choosunsick/Desktop/Korea_Stocks/Download/\" +stock_number_text+\".csv\"\n",
    "    test2.to_csv(savename,index=True)"
   ]
  },
  {
   "cell_type": "code",
   "execution_count": 4,
   "metadata": {},
   "outputs": [],
   "source": [
    "def KQ_extracting_stock_from_yahoo(stock_number_text):\n",
    "    \"\"\"\n",
    "    이 함수는 야후에서 코스닥 주식자료를 추출하는 함수입니다.\n",
    "    \"\"\"\n",
    "    url = 'https://finance.yahoo.com/quote/'+str(stock_number_text)+'.KQ/history?p='+ str(stock_number_text) + '.KQ'\n",
    "    print(url)\n",
    "    html = urlopen(url)\n",
    "    soup4 = BeautifulSoup(html, \"html.parser\")\n",
    "    temp = soup4.text.strip()\n",
    "    temp1 = temp.split('\\\"HistoricalPriceStore\\\":')[1]\n",
    "    temp2 = temp1.split('],\"isPending\":false,\"')[0]\n",
    "    temp3 = json.dumps(temp2)\n",
    "    temp4 = temp3.replace('\\\\','')[11:]\n",
    "    yahoo_json = json.loads((temp4[:len(temp4)-1]+']'))\n",
    "    return yahoo_json\n",
    "\n",
    "def KQ_extracting_stock_data(stock_number_text):\n",
    "    temp = KQ_extracting_stock_from_yahoo(stock_number_text)\n",
    "    temp = json.dumps(temp)\n",
    "    temp = pd.read_json(temp, orient='records')\n",
    "    temp2 = pd.concat([temp['open'][:30], temp['high'][:30],temp['low'][:30],temp['close'][:30],temp['volume'][:30],temp['adjclose'][:30]], axis=1).fillna(0.0).astype(int)\n",
    "    temp2=temp2.set_index(temp['date'][:30])\n",
    "    temp2.index=temp2.index[:].strftime(\"%Y-%m-%d\")\n",
    "    savename=\"/Users/choosunsick/Desktop/Korea_Stocks/Stocklist_2018/\" +stock_number_text+\".csv\"\n",
    "    temp2.to_csv(savename,index=True)"
   ]
  },
  {
   "cell_type": "code",
   "execution_count": 6,
   "metadata": {},
   "outputs": [
    {
     "name": "stdout",
     "output_type": "stream",
     "text": [
      "https://finance.yahoo.com/quote/298040.KS/history?p=298040.KS\n"
     ]
    }
   ],
   "source": [
    "KS_extracting_stock_data(\"298040\")"
   ]
  },
  {
   "cell_type": "code",
   "execution_count": null,
   "metadata": {},
   "outputs": [],
   "source": []
  }
 ],
 "metadata": {
  "kernelspec": {
   "display_name": "Python 3",
   "language": "python",
   "name": "python3"
  },
  "language_info": {
   "codemirror_mode": {
    "name": "ipython",
    "version": 3
   },
   "file_extension": ".py",
   "mimetype": "text/x-python",
   "name": "python",
   "nbconvert_exporter": "python",
   "pygments_lexer": "ipython3",
   "version": "3.7.0"
  }
 },
 "nbformat": 4,
 "nbformat_minor": 2
}
